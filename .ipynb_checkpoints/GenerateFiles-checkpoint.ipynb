{
 "cells": [
  {
   "cell_type": "code",
   "execution_count": 102,
   "metadata": {},
   "outputs": [],
   "source": [
    "import pystache\n",
    "from cairosvg import svg2png\n",
    "import requests\n",
    "import os"
   ]
  },
  {
   "cell_type": "code",
   "execution_count": 103,
   "metadata": {},
   "outputs": [],
   "source": [
    "def generateQRCode(room_url,room):\n",
    "    headers = {\n",
    "        'Accept': '*/*',\n",
    "        'Referer': 'https://fr.qr-code-generator.com/',\n",
    "        'Origin': 'https://fr.qr-code-generator.com',\n",
    "        'User-Agent': 'Mozilla/5.0 (Macintosh; Intel Mac OS X 10_14_5) AppleWebKit/537.36 (KHTML, like Gecko) Chrome/75.0.3770.100 Safari/537.36',\n",
    "        'Content-Type': 'application/x-www-form-urlencoded',\n",
    "    }\n",
    "    \n",
    "    params = (\n",
    "        ('access-token', 'EBephxedmZHs9OWzR2Kbv-125ifulLI1LemyW4NO2hwWifAzpHadEVcOq-OkFtNz'),\n",
    "    )\n",
    "    \n",
    "    data = {\n",
    "      'frame_name': 'no-frame',\n",
    "      'qr_code_text': room_url,\n",
    "      'frame_text': 'Scan me',\n",
    "      'frame_icon_name': 'mobile',\n",
    "      'frame_color': '#000000',\n",
    "      'foreground_color': '#000000',\n",
    "      'qr_code_logo': '',\n",
    "      'marker_left_template': 'version1',\n",
    "      'marker_right_template': 'version1',\n",
    "      'marker_bottom_template': 'version1'\n",
    "    }\n",
    "    \n",
    "    response = requests.post('https://api.qr-code-generator.com/v1/create', headers=headers, params=params, data=data)\n",
    "    imagepath = 'qr/'+room+'.png'\n",
    "    svg2png(bytestring=response.text,write_to=imagepath)\n",
    "    transparent_background(imagepath)\n",
    "\n",
    "def transparent_background(imagepath):\n",
    "    from PIL import Image\n",
    "    \n",
    "    img = Image.open(imagepath)\n",
    "    img = img.convert(\"RGBA\")\n",
    "    datas = img.getdata()\n",
    "    \n",
    "    newData = []\n",
    "    for item in datas:\n",
    "        if item[0] == 255 and item[1] == 255 and item[2] == 255:\n",
    "            newData.append((255, 255, 255, 0))\n",
    "        else:\n",
    "            newData.append(item)\n",
    "    \n",
    "    img.putdata(newData)\n",
    "    img.save(imagepath, \"PNG\")"
   ]
  },
  {
   "cell_type": "code",
   "execution_count": 130,
   "metadata": {},
   "outputs": [],
   "source": [
    "#RB_ROOMS = [\n",
    "#\"Barcelone\",\n",
    "#\"Berlin\",\n",
    "#\"Casablanca\",\n",
    "#\"Lisbonne\",\n",
    "#\"Londres\",\n",
    "#\"Madrid\",\n",
    "#\"Milan\",\n",
    "#\"Moscow\",\n",
    "#\"Paris\",\n",
    "#\"Rome\",\n",
    "#\"Stockholm\"\n",
    "#]\n",
    "RB_ROOMS = [\n",
    "\"Berlin\"\n",
    "]\n",
    "\n",
    "\n",
    "options = {\n",
    "    'orientation':'landscape',\n",
    "    'disable-smart-shrinking': '',\n",
    "    'page-size':'A4',\n",
    "    'dpi': 400,\n",
    "    'encoding':'utf-8', \n",
    "    'margin-top': '0.75in',\n",
    "    'margin-right': '0.75in',\n",
    "    'margin-bottom': '0.75in',\n",
    "    'margin-left': '0.75in',\n",
    "}\n"
   ]
  },
  {
   "cell_type": "code",
   "execution_count": 131,
   "metadata": {},
   "outputs": [
    {
     "name": "stdout",
     "output_type": "stream",
     "text": [
      "Loading pages (1/6)\n",
      "[>                                                           ] 0%\r",
      "[======>                                                     ] 10%\r",
      "[======>                                                     ] 11%\r",
      "[======================>                                     ] 38%\r",
      "[==========================>                                 ] 44%\r",
      "[===========================>                                ] 46%\r",
      "[============================================================] 100%\r",
      "Counting pages (2/6)                                               \n",
      "[============================================================] Object 1 of 1\r",
      "Resolving links (4/6)                                                       \n",
      "[============================================================] Object 1 of 1\r",
      "Loading headers and footers (5/6)                                           \n",
      "Printing pages (6/6)\n",
      "[>                                                           ] Preparing\r",
      "[==============================>                             ] Page 1 of 2\r",
      "[============================================================] Page 2 of 2\r",
      "Done                                                                      \n"
     ]
    }
   ],
   "source": [
    "cwd = os.getcwd()\n",
    "template= \"\"\n",
    "with open(\"rb-room.html\",\"rb\") as f:\n",
    "    template=f.read()\n",
    "with open(\"rb-room-wall.html\",\"rb\") as f:\n",
    "    wall=f.read()\n",
    "for room in RB_ROOMS:\n",
    "    formatted_room = room.lower()\n",
    "    html = pystache.render(template, {'ROOM_NAME': room})\n",
    "    wall_html = pystache.render(wall, {'ROOM_NAME': room})\n",
    "    file = open(formatted_room+\".html\", \"w\")\n",
    "    file.write(html) \n",
    "    file.close()\n",
    "    file = open(\"wall/\"+formatted_room+\"-wall.html\", \"w\")\n",
    "    file.write(wall_html) \n",
    "    file.close()\n",
    "    \n",
    "    room_url = f'https://cabichahine.github.io/rb-rooms/{formatted_room}.html'\n",
    "    generateQRCode(room_url,room)\n",
    "    pdfkit.from_url(\"file://\"+cwd+\"/wall/\"+formatted_room+\"-wall.html\", \"pdf/\"+room+\".pdf\",options)"
   ]
  },
  {
   "cell_type": "code",
   "execution_count": null,
   "metadata": {},
   "outputs": [],
   "source": []
  }
 ],
 "metadata": {
  "kernelspec": {
   "display_name": "Python 3",
   "language": "python",
   "name": "python3"
  },
  "language_info": {
   "codemirror_mode": {
    "name": "ipython",
    "version": 3
   },
   "file_extension": ".py",
   "mimetype": "text/x-python",
   "name": "python",
   "nbconvert_exporter": "python",
   "pygments_lexer": "ipython3",
   "version": "3.6.8"
  }
 },
 "nbformat": 4,
 "nbformat_minor": 2
}
