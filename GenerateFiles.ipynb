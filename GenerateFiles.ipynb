{
 "cells": [
  {
   "cell_type": "code",
   "execution_count": 26,
   "metadata": {},
   "outputs": [],
   "source": [
    "import pystache\n",
    "from cairosvg import svg2png\n",
    "import requests\n"
   ]
  },
  {
   "cell_type": "code",
   "execution_count": 27,
   "metadata": {},
   "outputs": [],
   "source": [
    "template= \"\"\n",
    "with open(\"rb-room.html\",\"rb\") as f:\n",
    "    template=f.read()"
   ]
  },
  {
   "cell_type": "code",
   "execution_count": 28,
   "metadata": {},
   "outputs": [],
   "source": [
    "def generateQRCode(room_url):\n",
    "    headers = {\n",
    "        'Accept': '*/*',\n",
    "        'Referer': 'https://fr.qr-code-generator.com/',\n",
    "        'Origin': 'https://fr.qr-code-generator.com',\n",
    "        'User-Agent': 'Mozilla/5.0 (Macintosh; Intel Mac OS X 10_14_5) AppleWebKit/537.36 (KHTML, like Gecko) Chrome/75.0.3770.100 Safari/537.36',\n",
    "        'Content-Type': 'application/x-www-form-urlencoded',\n",
    "    }\n",
    "    \n",
    "    params = (\n",
    "        ('access-token', 'EBephxedmZHs9OWzR2Kbv-125ifulLI1LemyW4NO2hwWifAzpHadEVcOq-OkFtNz'),\n",
    "    )\n",
    "    \n",
    "    data = {\n",
    "      'frame_name': 'no-frame',\n",
    "      'qr_code_text': room_url,\n",
    "      'frame_text': 'Scan me',\n",
    "      'frame_icon_name': 'mobile',\n",
    "      'frame_color': '#000000',\n",
    "      'foreground_color': '#000000',\n",
    "      'qr_code_logo': '',\n",
    "      'marker_left_template': 'version1',\n",
    "      'marker_right_template': 'version1',\n",
    "      'marker_bottom_template': 'version1'\n",
    "    }\n",
    "    \n",
    "    response = requests.post('https://api.qr-code-generator.com/v1/create', headers=headers, params=params, data=data)\n",
    "    svg2png(bytestring=response.text,write_to='qr/'+room+'.png')"
   ]
  },
  {
   "cell_type": "code",
   "execution_count": 29,
   "metadata": {},
   "outputs": [],
   "source": [
    "RB_ROOMS = [\n",
    "    \"Barcelone\",\n",
    "\"Berlin\",\n",
    "\"Casablanca\",\n",
    "\"Lisbonne\",\n",
    "\"Londres\",\n",
    "\"Madrid\",\n",
    "\"Milan\",\n",
    "\"Moscow\",\n",
    "\"Paris\",\n",
    "\"Rome\",\n",
    "\"Stockholm\"\n",
    "]"
   ]
  },
  {
   "cell_type": "code",
   "execution_count": 30,
   "metadata": {},
   "outputs": [],
   "source": [
    "for room in RB_ROOMS:\n",
    "    formatted_room = room.lower()\n",
    "    html = pystache.render(template, {'ROOM_NAME': room})\n",
    "    file = open(formatted_room+\".html\", \"w\")\n",
    "    file.write(html) \n",
    "    file.close()\n",
    "    \n",
    "    room_url = f'https://cabichahine.github.io/rb-rooms/{formatted_room}.html'\n",
    "    generateQRCode(room_url)"
   ]
  },
  {
   "cell_type": "code",
   "execution_count": null,
   "metadata": {},
   "outputs": [],
   "source": []
  }
 ],
 "metadata": {
  "kernelspec": {
   "display_name": "Python 3",
   "language": "python",
   "name": "python3"
  },
  "language_info": {
   "codemirror_mode": {
    "name": "ipython",
    "version": 3
   },
   "file_extension": ".py",
   "mimetype": "text/x-python",
   "name": "python",
   "nbconvert_exporter": "python",
   "pygments_lexer": "ipython3",
   "version": "3.6.8"
  }
 },
 "nbformat": 4,
 "nbformat_minor": 2
}
